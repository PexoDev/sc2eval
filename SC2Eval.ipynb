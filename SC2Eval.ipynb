{
 "cells": [
  {
   "cell_type": "code",
   "execution_count": null,
   "metadata": {},
   "outputs": [],
   "source": [
    "import os\n",
    "import threading\n",
    "import time\n",
    "import jsonpickle\n",
    "import Zephyrus.parser as zp\n",
    "import numpy as np\n",
    "import sklearn as skl\n",
    "import shutil\n",
    "import tensorflow as tf\n",
    "import numpy as np\n",
    "import analyze \n",
    "import matplotlib.pyplot as plt\n",
    "\n",
    "from sklearn.metrics import accuracy_score\n",
    "from tensorflow.keras.utils import to_categorical\n",
    "from sklearn.tree import DecisionTreeClassifier\n",
    "from sklearn.model_selection import train_test_split\n",
    "from sklearn import preprocessing\n",
    "from sklearn.ensemble import RandomForestClassifier\n",
    "from sklearn.linear_model import LogisticRegression\n",
    "from sklearn.tree import DecisionTreeClassifier\n",
    "from keras.models import Sequential\n",
    "from keras.layers import Dense, LSTM, Masking\n",
    "from keras.backend import reshape\n",
    "from keras.models import _reset_build_compile_trackers\n",
    "from zephyrus_sc2_parser.game import player\n",
    "from player import Player\n",
    "from replayDataPoint import ReplayDataPoint\n",
    "import ML"
   ]
  },
  {
   "cell_type": "code",
   "execution_count": null,
   "id": "fe7423cd",
   "metadata": {},
   "outputs": [],
   "source": [
    "replaysVectors = analyze.LoadVectorizedData(4000,0)"
   ]
  },
  {
   "cell_type": "code",
   "execution_count": null,
   "id": "44bbddfb",
   "metadata": {},
   "outputs": [],
   "source": [
    "averageReplayLength = ML.averageReplayLength(replaysVectors)"
   ]
  }
 ],
 "metadata": {
  "interpreter": {
   "hash": "96d83f6d599f707c2ea1d9f62a31726f071938a14e417dcd2b60991a4ad68fa1"
  },
  "kernelspec": {
   "display_name": "Python 3.9.7 64-bit ('sc2eval': conda)",
   "language": "python",
   "name": "python3"
  },
  "language_info": {
   "codemirror_mode": {
    "name": "ipython",
    "version": 3
   },
   "file_extension": ".py",
   "mimetype": "text/x-python",
   "name": "python",
   "nbconvert_exporter": "python",
   "pygments_lexer": "ipython3",
   "version": "3.9.7"
  }
 },
 "nbformat": 4,
 "nbformat_minor": 5
}
