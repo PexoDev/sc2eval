{
 "cells": [
  {
   "cell_type": "code",
   "execution_count": 38,
   "metadata": {},
   "outputs": [],
   "source": [
    "import TrainModels \n",
    "import ReplaysParser \n",
    "import numpy as np"
   ]
  },
  {
   "cell_type": "code",
   "execution_count": null,
   "id": "fe7423cd",
   "metadata": {},
   "outputs": [],
   "source": [
    "#lstmWeightsPath = \"../TrainedModels/lstm_various-match-length_30000.weights\"\n",
    "lstmWeightsPath = \"../TrainedModels/lstm_various-match-length_not-normalized_30000.weights\" #best model so far\n",
    "#lstmWeightsPath = \"../TrainedModels/lstm_various-match-length_not-normalized_loss-stop_30000.weights\"\n",
    "#lstmWeightsPath = \"../TrainedModels/lstm_various-match-length_not-normalized_loss-stop_10.weights\" #benchmark model, basically no training it random guesses at best\n",
    "lstm = TrainModels.UseTrainedLSTMModel(lstmWeightsPath)"
   ]
  },
  {
   "cell_type": "code",
   "execution_count": null,
   "id": "77a0f625",
   "metadata": {},
   "outputs": [],
   "source": [
    "hits = np.zeros(26)\n",
    "confidences = np.zeros(26)\n",
    "matches = np.zeros(26)\n",
    "\n",
    "matchesCount = 10\n",
    "\n",
    "for j in range(matchesCount):\n",
    "    matchLength = len(vectorizedReplayData[0])\n",
    "    vectorizedReplayData = ReplaysParser.LoadVectorizedData(1, 30150 + i)\n",
    "    normalizedData, expectedResults =  TrainModels.NormalizeInputAsSequences(vectorizedReplayData, 1, matchLength, 324)\n",
    "    \n",
    "    for percent in range(26):\n",
    "        i = round((percent/26)*matchLength)\n",
    "        if(percent == 25):\n",
    "            i = matchLength - 1\n",
    "        input = np.zeros([1,i+1,324])\n",
    "        input[0] = normalizedData[0][:i+1]\n",
    "        expectedOutput = expectedResults[0][0]\n",
    "\n",
    "        predictions = lstm.predict(input)\n",
    "        finalPredictions = predictions.argmax(axis=2)[0][-1]\n",
    "        confidence = max(predictions[0][-1][0],predictions[0][-1][1])\n",
    "\n",
    "        matches[percent] = matches[percent] + 1\n",
    "        confidences[percent] = confidences[percent] + confidence\n",
    "        if(finalPredictions == expectedOutput):\n",
    "            hits[percent] = hits[percent] + 1\n",
    "\n",
    "    print(\"Analyzed matches \"+str(j)+\"/\"+str(matchesCount),end='\\r')\n",
    "\n",
    "print (hits/matchesCount)\n",
    "print (confidences/matchesCount)"
   ]
  }
 ],
 "metadata": {
  "interpreter": {
   "hash": "96d83f6d599f707c2ea1d9f62a31726f071938a14e417dcd2b60991a4ad68fa1"
  },
  "kernelspec": {
   "display_name": "Python 3.9.7 64-bit ('sc2eval': conda)",
   "language": "python",
   "name": "python3"
  },
  "language_info": {
   "codemirror_mode": {
    "name": "ipython",
    "version": 3
   },
   "file_extension": ".py",
   "mimetype": "text/x-python",
   "name": "python",
   "nbconvert_exporter": "python",
   "pygments_lexer": "ipython3",
   "version": "3.9.7"
  }
 },
 "nbformat": 4,
 "nbformat_minor": 5
}
