{
 "cells": [
  {
   "cell_type": "code",
   "execution_count": 2,
   "id": "21b764a0",
   "metadata": {},
   "outputs": [],
   "source": [
    "import TrainModels \n",
    "import ReplaysParser \n",
    "import numpy as np\n",
    "import matplotlib.pyplot as plt"
   ]
  },
  {
   "cell_type": "code",
   "execution_count": 3,
   "id": "fe7423cd",
   "metadata": {},
   "outputs": [],
   "source": [
    "#lstmWeightsPath = \"../TrainedModels/lstm_various-match-length_not-normalized_30000.weights\" #best model so far\n",
    "#lstmWeightsPath = \"../TrainedModels/lstm_various-match-length_30000.weights\"\n",
    "#lstmWeightsPath = \"../TrainedModels/lstm_various-match-length_not-normalized_loss-stop_30000.weights\"\n",
    "#lstmWeightsPath = \"../TrainedModels/lstm_various-match-length_not-normalized_loss-stop_10.weights\" #benchmark model, basically no training it random guesses at best\n",
    "#lstmWeightsPath = \"../TrainedModels/lstm_various-match-length_not-normalized_basic-features_15000.weights\" #short model, 42 basic features only\n",
    "#lstmWeightsPath = \"../TrainedModels/lstm_various-match-length_not-normalized_basic-and-army-features_15000.weights\" #basic features + army data model\n",
    "lstmWeightsPath = \"../TrainedModels/lstm_various-match-length_not-normalized_all-features_15000.weights\" # all features\n",
    "\n",
    "lstm = TrainModels.UseTrainedLSTMModel(lstmWeightsPath)"
   ]
  },
  {
   "cell_type": "code",
   "execution_count": 8,
   "id": "77a0f625",
   "metadata": {},
   "outputs": [
    {
     "ename": "IndexError",
     "evalue": "list index out of range",
     "output_type": "error",
     "traceback": [
      "\u001b[1;31m---------------------------------------------------------------------------\u001b[0m",
      "\u001b[1;31mIndexError\u001b[0m                                Traceback (most recent call last)",
      "\u001b[1;32mm:\\Uni\\sc2eval\\Code\\SC2Eval.ipynb Cell 3'\u001b[0m in \u001b[0;36m<cell line: 10>\u001b[1;34m()\u001b[0m\n\u001b[0;32m     <a href='vscode-notebook-cell:/m%3A/Uni/sc2eval/Code/SC2Eval.ipynb#ch0000002?line=10'>11</a>\u001b[0m vectorizedReplayData \u001b[39m=\u001b[39m ReplaysParser\u001b[39m.\u001b[39mLoadVectorizedData(\u001b[39m1\u001b[39m, \u001b[39m15010\u001b[39m \u001b[39m+\u001b[39m j, validationDataFolder)\n\u001b[0;32m     <a href='vscode-notebook-cell:/m%3A/Uni/sc2eval/Code/SC2Eval.ipynb#ch0000002?line=11'>12</a>\u001b[0m \u001b[39m#vectorizedReplayData = ReplaysParser.ExtractBasicAndArmyData(vectorizedReplayData)\u001b[39;00m\n\u001b[1;32m---> <a href='vscode-notebook-cell:/m%3A/Uni/sc2eval/Code/SC2Eval.ipynb#ch0000002?line=12'>13</a>\u001b[0m matchLength \u001b[39m=\u001b[39m \u001b[39mlen\u001b[39m(vectorizedReplayData[\u001b[39m0\u001b[39;49m])\n\u001b[0;32m     <a href='vscode-notebook-cell:/m%3A/Uni/sc2eval/Code/SC2Eval.ipynb#ch0000002?line=13'>14</a>\u001b[0m normalizedData, expectedResults \u001b[39m=\u001b[39m  TrainModels\u001b[39m.\u001b[39mPrepareInputData(vectorizedReplayData, \u001b[39m1\u001b[39m, matchLength, numberOfFeatures)\n\u001b[0;32m     <a href='vscode-notebook-cell:/m%3A/Uni/sc2eval/Code/SC2Eval.ipynb#ch0000002?line=15'>16</a>\u001b[0m \u001b[39mfor\u001b[39;00m percent \u001b[39min\u001b[39;00m \u001b[39mrange\u001b[39m(\u001b[39m26\u001b[39m):\n",
      "\u001b[1;31mIndexError\u001b[0m: list index out of range"
     ]
    }
   ],
   "source": [
    "#validationDataFolder = \"M:/Uni/sc2eval/SerializedDataForValidation\"\n",
    "hits = np.zeros(26)\n",
    "confidences = np.zeros(26)\n",
    "matches = np.zeros(26)\n",
    "\n",
    "matchesCount = 10\n",
    "numberOfFeatures = 322\n",
    "\n",
    "\n",
    "for j in range(matchesCount):\n",
    "    vectorizedReplayData = ReplaysParser.LoadVectorizedData(1, 15010 + j)\n",
    "    #vectorizedReplayData = ReplaysParser.ExtractBasicAndArmyData(vectorizedReplayData)\n",
    "    matchLength = len(vectorizedReplayData[0])\n",
    "    normalizedData, expectedResults =  TrainModels.PrepareInputData(vectorizedReplayData, 1, matchLength, numberOfFeatures)\n",
    "    \n",
    "    for percent in range(26):\n",
    "        i = round((percent/26)*matchLength)\n",
    "        if(percent == 25):\n",
    "            i = matchLength - 1\n",
    "        input = np.zeros([1,i+1,numberOfFeatures])\n",
    "        input[0] = normalizedData[0][:i+1]\n",
    "        expectedOutput = expectedResults[0][0]\n",
    "\n",
    "        predictions = lstm.predict(input)\n",
    "        finalPredictions = predictions.argmax(axis=2)[0][-1]\n",
    "        confidence = max(predictions[0][-1][0],predictions[0][-1][1])\n",
    "\n",
    "        matches[percent] = matches[percent] + 1\n",
    "        confidences[percent] = confidences[percent] + confidence\n",
    "        if(finalPredictions == expectedOutput):\n",
    "            hits[percent] = hits[percent] + 1\n",
    "\n",
    "    print(\"Analyzed matches \"+str(j)+\"/\"+str(matchesCount),end='\\r')\n",
    "\n",
    "plt.plot(hits/matchesCount, label=\"Accuracy\")\n",
    "plt.plot(confidences/matchesCount, label=\"Confidence\")\n",
    "plt.legend()\n",
    "plt.show()\n",
    "\n",
    "print (hits/matchesCount)\n",
    "print (confidences/matchesCount)"
   ]
  }
 ],
 "metadata": {
  "interpreter": {
   "hash": "96d83f6d599f707c2ea1d9f62a31726f071938a14e417dcd2b60991a4ad68fa1"
  },
  "kernelspec": {
   "display_name": "Python 3.9.7 64-bit ('sc2eval': conda)",
   "language": "python",
   "name": "python3"
  },
  "language_info": {
   "codemirror_mode": {
    "name": "ipython",
    "version": 3
   },
   "file_extension": ".py",
   "mimetype": "text/x-python",
   "name": "python",
   "nbconvert_exporter": "python",
   "pygments_lexer": "ipython3",
   "version": "3.9.7"
  }
 },
 "nbformat": 4,
 "nbformat_minor": 5
}
